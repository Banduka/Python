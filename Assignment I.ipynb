{
  "metadata": {
    "language_info": {
      "codemirror_mode": {
        "name": "python",
        "version": 3
      },
      "file_extension": ".py",
      "mimetype": "text/x-python",
      "name": "python",
      "nbconvert_exporter": "python",
      "pygments_lexer": "ipython3",
      "version": "3.8"
    },
    "kernelspec": {
      "name": "python",
      "display_name": "Python (Pyodide)",
      "language": "python"
    }
  },
  "nbformat_minor": 4,
  "nbformat": 4,
  "cells": [
    {
      "cell_type": "markdown",
      "source": "1.\nAssignment I\n## 15th September\n**Banduka Yoshan Jayasundara**",
      "metadata": {}
    },
    {
      "cell_type": "markdown",
      "source": "2.\n* Python\n* Java\n* C",
      "metadata": {}
    },
    {
      "cell_type": "markdown",
      "source": "3.\n|Intermediate Devices|End Devices|Media|\n|--------------------|-----------|-----|\n|Router              |Laptop     |Cable|\n|Switch              |Phone      |Wireless connection|",
      "metadata": {}
    },
    {
      "cell_type": "code",
      "source": "print(\"Banduka Yoshan Jayasundara\")",
      "metadata": {
        "trusted": true
      },
      "execution_count": 2,
      "outputs": [
        {
          "name": "stdout",
          "text": "Banduka Yoshan Jayasundara\n",
          "output_type": "stream"
        }
      ]
    },
    {
      "cell_type": "code",
      "source": "x = \"Banduka Yoshan Jayasundara\"\nprint(\"hellow\", x) ",
      "metadata": {
        "trusted": true
      },
      "execution_count": 7,
      "outputs": [
        {
          "name": "stdout",
          "text": "hellow Banduka Yoshan Jayasundara\n",
          "output_type": "stream"
        }
      ]
    },
    {
      "cell_type": "code",
      "source": "y = 5\nz = 8\ns = y + z\nprint(\"sum of y and z =\",s)",
      "metadata": {
        "trusted": true
      },
      "execution_count": 1,
      "outputs": [
        {
          "name": "stdout",
          "text": "sum of y and z = 13\n",
          "output_type": "stream"
        }
      ]
    }
  ]
}